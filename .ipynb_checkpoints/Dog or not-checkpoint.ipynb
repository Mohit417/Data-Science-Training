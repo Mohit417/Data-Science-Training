{
 "cells": [
  {
   "cell_type": "code",
   "execution_count": 2,
   "metadata": {},
   "outputs": [
    {
     "name": "stderr",
     "output_type": "stream",
     "text": [
      "Using TensorFlow backend.\n"
     ]
    }
   ],
   "source": [
    "import keras\n",
    "import numpy as np\n",
    "import os\n",
    "import matplotlib.pyplot as plt\n",
    "from scipy import misc\n",
    "import scipy\n",
    "from keras.models import Model, Sequential\n",
    "from keras.layers import Dense, Activation, Flatten, Dropout\n",
    "import pickle\n",
    "%matplotlib inline"
   ]
  },
  {
   "cell_type": "code",
   "execution_count": 3,
   "metadata": {
    "collapsed": true
   },
   "outputs": [],
   "source": [
    "test_img_fnames = os.listdir('data/data/test')\n",
    "train_img_fnames = os.listdir('data/data/train')"
   ]
  },
  {
   "cell_type": "markdown",
   "metadata": {},
   "source": [
    "# Load in the data\n",
    "First  write a function to load into memory each of the images, and then resize them to (224, 224, 3) and rescale the images so that they are on a scale of 0 to 1."
   ]
  },
  {
   "cell_type": "code",
   "execution_count": 47,
   "metadata": {
    "collapsed": true
   },
   "outputs": [],
   "source": [
    "def load_img(filename):\n",
    "    img_arr = scipy.misc.imread(filename)\n",
    "    size = (224, 224, 3) \n",
    "    out = scipy.misc.imresize(img_arr, size)\n",
    "    out = out/255\n",
    "    return out"
   ]
  },
  {
   "cell_type": "code",
   "execution_count": 53,
   "metadata": {},
   "outputs": [],
   "source": [
    "test_imgs = [load_img(os.path.join('data/data/test', fname)) for fname in test_img_fnames[:500]]  #ELIMINATE THIS SLICE\n",
    "test_imgs = np.stack(test_imgs)"
   ]
  },
  {
   "cell_type": "code",
   "execution_count": 54,
   "metadata": {},
   "outputs": [
    {
     "data": {
      "text/plain": [
       "array([[[[ 0.20392157,  0.18431373,  0.17254902],\n",
       "         [ 0.18823529,  0.16862745,  0.15686275],\n",
       "         [ 0.18823529,  0.16862745,  0.15686275],\n",
       "         ..., \n",
       "         [ 0.23921569,  0.21960784,  0.20784314],\n",
       "         [ 0.26666667,  0.24705882,  0.23529412],\n",
       "         [ 0.24705882,  0.22745098,  0.21568627]],\n",
       "\n",
       "        [[ 0.18823529,  0.16862745,  0.15686275],\n",
       "         [ 0.18823529,  0.16862745,  0.15686275],\n",
       "         [ 0.2       ,  0.18039216,  0.16862745],\n",
       "         ..., \n",
       "         [ 0.25490196,  0.23529412,  0.22352941],\n",
       "         [ 0.28235294,  0.2627451 ,  0.25098039],\n",
       "         [ 0.26666667,  0.24705882,  0.23529412]],\n",
       "\n",
       "        [[ 0.15686275,  0.1372549 ,  0.1254902 ],\n",
       "         [ 0.17254902,  0.15294118,  0.14117647],\n",
       "         [ 0.20392157,  0.18431373,  0.17254902],\n",
       "         ..., \n",
       "         [ 0.29411765,  0.2745098 ,  0.2627451 ],\n",
       "         [ 0.33333333,  0.31372549,  0.30196078],\n",
       "         [ 0.31764706,  0.29803922,  0.28627451]],\n",
       "\n",
       "        ..., \n",
       "        [[ 0.34901961,  0.3254902 ,  0.32156863],\n",
       "         [ 0.35294118,  0.33333333,  0.3254902 ],\n",
       "         [ 0.36078431,  0.34117647,  0.33333333],\n",
       "         ..., \n",
       "         [ 0.3372549 ,  0.33333333,  0.3254902 ],\n",
       "         [ 0.3254902 ,  0.32156863,  0.31372549],\n",
       "         [ 0.35294118,  0.34901961,  0.34117647]],\n",
       "\n",
       "        [[ 0.34901961,  0.32941176,  0.31764706],\n",
       "         [ 0.34117647,  0.32156863,  0.30980392],\n",
       "         [ 0.36862745,  0.34901961,  0.3372549 ],\n",
       "         ..., \n",
       "         [ 0.34901961,  0.34509804,  0.3372549 ],\n",
       "         [ 0.33333333,  0.32941176,  0.32156863],\n",
       "         [ 0.37647059,  0.37254902,  0.36470588]],\n",
       "\n",
       "        [[ 0.32156863,  0.30196078,  0.29019608],\n",
       "         [ 0.31764706,  0.29803922,  0.28627451],\n",
       "         [ 0.35686275,  0.3372549 ,  0.3254902 ],\n",
       "         ..., \n",
       "         [ 0.35686275,  0.35294118,  0.34509804],\n",
       "         [ 0.3372549 ,  0.33333333,  0.3254902 ],\n",
       "         [ 0.36862745,  0.36470588,  0.35686275]]],\n",
       "\n",
       "\n",
       "       [[[ 0.20392157,  0.23529412,  0.05882353],\n",
       "         [ 0.36862745,  0.39607843,  0.22745098],\n",
       "         [ 0.4       ,  0.42745098,  0.26666667],\n",
       "         ..., \n",
       "         [ 0.31372549,  0.31764706,  0.23137255],\n",
       "         [ 0.30196078,  0.30588235,  0.21960784],\n",
       "         [ 0.2745098 ,  0.2745098 ,  0.19215686]],\n",
       "\n",
       "        [[ 0.22745098,  0.25490196,  0.10980392],\n",
       "         [ 0.30980392,  0.3372549 ,  0.19607843],\n",
       "         [ 0.39215686,  0.41960784,  0.27843137],\n",
       "         ..., \n",
       "         [ 0.30588235,  0.32941176,  0.23529412],\n",
       "         [ 0.30588235,  0.32941176,  0.23921569],\n",
       "         [ 0.28627451,  0.30980392,  0.21568627]],\n",
       "\n",
       "        [[ 0.29803922,  0.3372549 ,  0.23529412],\n",
       "         [ 0.35686275,  0.39215686,  0.29411765],\n",
       "         [ 0.45490196,  0.49019608,  0.39215686],\n",
       "         ..., \n",
       "         [ 0.28235294,  0.32941176,  0.23137255],\n",
       "         [ 0.28235294,  0.32941176,  0.23137255],\n",
       "         [ 0.27843137,  0.3254902 ,  0.22352941]],\n",
       "\n",
       "        ..., \n",
       "        [[ 0.76078431,  0.68627451,  0.58039216],\n",
       "         [ 0.81568627,  0.74117647,  0.63529412],\n",
       "         [ 0.82352941,  0.74901961,  0.63137255],\n",
       "         ..., \n",
       "         [ 0.78039216,  0.67843137,  0.57254902],\n",
       "         [ 0.79215686,  0.69019608,  0.58431373],\n",
       "         [ 0.79215686,  0.69019608,  0.58431373]],\n",
       "\n",
       "        [[ 0.63921569,  0.56078431,  0.45490196],\n",
       "         [ 0.68235294,  0.60392157,  0.49803922],\n",
       "         [ 0.7372549 ,  0.65882353,  0.54509804],\n",
       "         ..., \n",
       "         [ 0.80784314,  0.70588235,  0.6       ],\n",
       "         [ 0.80392157,  0.70196078,  0.59607843],\n",
       "         [ 0.79607843,  0.69411765,  0.58823529]],\n",
       "\n",
       "        [[ 0.64705882,  0.56470588,  0.45882353],\n",
       "         [ 0.63137255,  0.54901961,  0.44313725],\n",
       "         [ 0.6745098 ,  0.59607843,  0.48235294],\n",
       "         ..., \n",
       "         [ 0.83921569,  0.7372549 ,  0.63137255],\n",
       "         [ 0.83137255,  0.72941176,  0.62352941],\n",
       "         [ 0.82352941,  0.72156863,  0.61568627]]],\n",
       "\n",
       "\n",
       "       [[[ 0.28235294,  0.25490196,  0.19215686],\n",
       "         [ 0.25882353,  0.23137255,  0.16862745],\n",
       "         [ 0.27058824,  0.24313725,  0.18039216],\n",
       "         ..., \n",
       "         [ 0.21960784,  0.17647059,  0.10980392],\n",
       "         [ 0.21960784,  0.18039216,  0.10980392],\n",
       "         [ 0.21176471,  0.17254902,  0.10196078]],\n",
       "\n",
       "        [[ 0.31372549,  0.28627451,  0.21960784],\n",
       "         [ 0.30980392,  0.28235294,  0.21568627],\n",
       "         [ 0.30980392,  0.28235294,  0.21568627],\n",
       "         ..., \n",
       "         [ 0.2627451 ,  0.22745098,  0.16862745],\n",
       "         [ 0.2627451 ,  0.22352941,  0.16862745],\n",
       "         [ 0.25490196,  0.21568627,  0.16078431]],\n",
       "\n",
       "        [[ 0.3254902 ,  0.29803922,  0.22745098],\n",
       "         [ 0.32941176,  0.30196078,  0.23137255],\n",
       "         [ 0.30588235,  0.27843137,  0.20784314],\n",
       "         ..., \n",
       "         [ 0.29411765,  0.25882353,  0.22352941],\n",
       "         [ 0.29019608,  0.25490196,  0.21960784],\n",
       "         [ 0.28235294,  0.24705882,  0.21176471]],\n",
       "\n",
       "        ..., \n",
       "        [[ 0.6       ,  0.54117647,  0.41176471],\n",
       "         [ 0.59215686,  0.53333333,  0.40392157],\n",
       "         [ 0.61176471,  0.55294118,  0.42352941],\n",
       "         ..., \n",
       "         [ 0.4745098 ,  0.43137255,  0.32156863],\n",
       "         [ 0.47843137,  0.43529412,  0.3254902 ],\n",
       "         [ 0.47058824,  0.42745098,  0.31764706]],\n",
       "\n",
       "        [[ 0.61960784,  0.56078431,  0.43137255],\n",
       "         [ 0.61176471,  0.55294118,  0.42352941],\n",
       "         [ 0.62745098,  0.56862745,  0.43921569],\n",
       "         ..., \n",
       "         [ 0.53333333,  0.49019608,  0.38039216],\n",
       "         [ 0.54117647,  0.49803922,  0.38823529],\n",
       "         [ 0.5254902 ,  0.48235294,  0.37254902]],\n",
       "\n",
       "        [[ 0.59215686,  0.53333333,  0.40392157],\n",
       "         [ 0.59215686,  0.53333333,  0.40392157],\n",
       "         [ 0.6       ,  0.54117647,  0.41176471],\n",
       "         ..., \n",
       "         [ 0.56862745,  0.5254902 ,  0.41568627],\n",
       "         [ 0.56470588,  0.52156863,  0.41176471],\n",
       "         [ 0.54509804,  0.50196078,  0.39215686]]],\n",
       "\n",
       "\n",
       "       ..., \n",
       "       [[[ 0.44313725,  0.41176471,  0.40392157],\n",
       "         [ 0.44705882,  0.41568627,  0.40784314],\n",
       "         [ 0.43921569,  0.40784314,  0.4       ],\n",
       "         ..., \n",
       "         [ 0.56470588,  0.50980392,  0.4       ],\n",
       "         [ 0.56470588,  0.50588235,  0.41176471],\n",
       "         [ 0.56470588,  0.50588235,  0.41568627]],\n",
       "\n",
       "        [[ 0.45098039,  0.41960784,  0.40784314],\n",
       "         [ 0.45098039,  0.41960784,  0.40784314],\n",
       "         [ 0.44705882,  0.41568627,  0.40392157],\n",
       "         ..., \n",
       "         [ 0.55294118,  0.49803922,  0.4       ],\n",
       "         [ 0.55294118,  0.49411765,  0.40784314],\n",
       "         [ 0.55294118,  0.49411765,  0.41176471]],\n",
       "\n",
       "        [[ 0.44705882,  0.41960784,  0.4       ],\n",
       "         [ 0.45098039,  0.42352941,  0.40392157],\n",
       "         [ 0.44705882,  0.41568627,  0.39607843],\n",
       "         ..., \n",
       "         [ 0.54117647,  0.48235294,  0.41176471],\n",
       "         [ 0.54117647,  0.48235294,  0.40784314],\n",
       "         [ 0.54117647,  0.48235294,  0.40784314]],\n",
       "\n",
       "        ..., \n",
       "        [[ 0.44313725,  0.42745098,  0.38431373],\n",
       "         [ 0.45098039,  0.43529412,  0.38431373],\n",
       "         [ 0.44705882,  0.43921569,  0.37254902],\n",
       "         ..., \n",
       "         [ 0.68627451,  0.54509804,  0.39215686],\n",
       "         [ 0.69803922,  0.56078431,  0.41176471],\n",
       "         [ 0.70196078,  0.56470588,  0.41568627]],\n",
       "\n",
       "        [[ 0.48627451,  0.47058824,  0.42745098],\n",
       "         [ 0.48627451,  0.47058824,  0.41960784],\n",
       "         [ 0.46666667,  0.4627451 ,  0.39215686],\n",
       "         ..., \n",
       "         [ 0.6745098 ,  0.53333333,  0.38039216],\n",
       "         [ 0.69019608,  0.55686275,  0.40784314],\n",
       "         [ 0.70196078,  0.56470588,  0.41568627]],\n",
       "\n",
       "        [[ 0.46666667,  0.45098039,  0.40784314],\n",
       "         [ 0.48627451,  0.47058824,  0.42352941],\n",
       "         [ 0.49411765,  0.49019608,  0.42352941],\n",
       "         ..., \n",
       "         [ 0.68235294,  0.54117647,  0.38823529],\n",
       "         [ 0.69019608,  0.55686275,  0.40784314],\n",
       "         [ 0.70196078,  0.56470588,  0.41568627]]],\n",
       "\n",
       "\n",
       "       [[[ 0.32156863,  0.30196078,  0.27843137],\n",
       "         [ 0.42352941,  0.40392157,  0.38431373],\n",
       "         [ 0.4745098 ,  0.45490196,  0.44313725],\n",
       "         ..., \n",
       "         [ 0.31764706,  0.29019608,  0.18823529],\n",
       "         [ 0.34509804,  0.31764706,  0.21568627],\n",
       "         [ 0.41176471,  0.38431373,  0.27843137]],\n",
       "\n",
       "        [[ 0.29803922,  0.27843137,  0.25490196],\n",
       "         [ 0.39607843,  0.37647059,  0.35686275],\n",
       "         [ 0.41568627,  0.39607843,  0.38431373],\n",
       "         ..., \n",
       "         [ 0.45098039,  0.42352941,  0.30980392],\n",
       "         [ 0.45490196,  0.42745098,  0.31372549],\n",
       "         [ 0.41568627,  0.38823529,  0.27843137]],\n",
       "\n",
       "        [[ 0.28235294,  0.26666667,  0.23529412],\n",
       "         [ 0.34117647,  0.3254902 ,  0.30196078],\n",
       "         [ 0.43921569,  0.41960784,  0.40392157],\n",
       "         ..., \n",
       "         [ 0.37647059,  0.34901961,  0.22745098],\n",
       "         [ 0.4627451 ,  0.43921569,  0.31372549],\n",
       "         [ 0.43137255,  0.40392157,  0.28235294]],\n",
       "\n",
       "        ..., \n",
       "        [[ 0.61176471,  0.5372549 ,  0.4627451 ],\n",
       "         [ 0.56078431,  0.49019608,  0.38039216],\n",
       "         [ 0.55686275,  0.49803922,  0.34509804],\n",
       "         ..., \n",
       "         [ 0.62745098,  0.53333333,  0.36078431],\n",
       "         [ 0.56862745,  0.4745098 ,  0.30588235],\n",
       "         [ 0.51764706,  0.41960784,  0.25882353]],\n",
       "\n",
       "        [[ 0.68627451,  0.61568627,  0.54117647],\n",
       "         [ 0.64313725,  0.57254902,  0.46666667],\n",
       "         [ 0.61176471,  0.55294118,  0.39607843],\n",
       "         ..., \n",
       "         [ 0.61568627,  0.52156863,  0.34901961],\n",
       "         [ 0.56078431,  0.46666667,  0.29803922],\n",
       "         [ 0.51764706,  0.41960784,  0.25882353]],\n",
       "\n",
       "        [[ 0.65098039,  0.58039216,  0.50588235],\n",
       "         [ 0.69803922,  0.62745098,  0.52156863],\n",
       "         [ 0.61568627,  0.55686275,  0.4       ],\n",
       "         ..., \n",
       "         [ 0.61568627,  0.52156863,  0.34901961],\n",
       "         [ 0.56470588,  0.47058824,  0.30196078],\n",
       "         [ 0.5254902 ,  0.42745098,  0.26666667]]],\n",
       "\n",
       "\n",
       "       [[[ 0.05098039,  0.05882353,  0.03921569],\n",
       "         [ 0.06666667,  0.0745098 ,  0.05490196],\n",
       "         [ 0.06666667,  0.0745098 ,  0.05490196],\n",
       "         ..., \n",
       "         [ 0.51372549,  0.45098039,  0.35294118],\n",
       "         [ 0.51372549,  0.45098039,  0.35294118],\n",
       "         [ 0.51372549,  0.45098039,  0.35294118]],\n",
       "\n",
       "        [[ 0.0745098 ,  0.08235294,  0.0627451 ],\n",
       "         [ 0.09019608,  0.09411765,  0.0745098 ],\n",
       "         [ 0.09019608,  0.09803922,  0.07843137],\n",
       "         ..., \n",
       "         [ 0.51372549,  0.45098039,  0.35294118],\n",
       "         [ 0.51372549,  0.45098039,  0.35294118],\n",
       "         [ 0.51372549,  0.45098039,  0.35294118]],\n",
       "\n",
       "        [[ 0.10588235,  0.10980392,  0.09019608],\n",
       "         [ 0.11764706,  0.12156863,  0.10196078],\n",
       "         [ 0.12156863,  0.1254902 ,  0.10588235],\n",
       "         ..., \n",
       "         [ 0.51372549,  0.45098039,  0.35294118],\n",
       "         [ 0.51372549,  0.45098039,  0.35294118],\n",
       "         [ 0.51372549,  0.45098039,  0.35294118]],\n",
       "\n",
       "        ..., \n",
       "        [[ 0.15686275,  0.16078431,  0.16862745],\n",
       "         [ 0.15294118,  0.15294118,  0.15686275],\n",
       "         [ 0.14509804,  0.14509804,  0.14509804],\n",
       "         ..., \n",
       "         [ 0.19607843,  0.19215686,  0.16862745],\n",
       "         [ 0.17647059,  0.17254902,  0.15294118],\n",
       "         [ 0.12941176,  0.1254902 ,  0.10980392]],\n",
       "\n",
       "        [[ 0.14901961,  0.15294118,  0.16078431],\n",
       "         [ 0.15686275,  0.15686275,  0.15686275],\n",
       "         [ 0.15294118,  0.15294118,  0.15294118],\n",
       "         ..., \n",
       "         [ 0.21960784,  0.21568627,  0.19215686],\n",
       "         [ 0.20784314,  0.20392157,  0.18431373],\n",
       "         [ 0.15294118,  0.14901961,  0.12941176]],\n",
       "\n",
       "        [[ 0.14901961,  0.15294118,  0.16078431],\n",
       "         [ 0.15686275,  0.15686275,  0.15686275],\n",
       "         [ 0.15294118,  0.15294118,  0.15294118],\n",
       "         ..., \n",
       "         [ 0.17254902,  0.16862745,  0.14509804],\n",
       "         [ 0.20784314,  0.20392157,  0.18431373],\n",
       "         [ 0.19607843,  0.19215686,  0.17647059]]]])"
      ]
     },
     "execution_count": 54,
     "metadata": {},
     "output_type": "execute_result"
    }
   ],
   "source": [
    "train_imgs = [load_img(os.path.join('data/data/train', fname)) for fname in train_img_fnames[:500]] #ELIMINATE THIS SLICE\n",
    "train_imgs = np.stack(train_imgs)\n",
    "train_imgs"
   ]
  },
  {
   "cell_type": "code",
   "execution_count": 55,
   "metadata": {
    "collapsed": true
   },
   "outputs": [],
   "source": [
    "with open('data/data/train_labels.pkl', 'rb') as f:\n",
    "    train_labels = pickle.load(f)"
   ]
  },
  {
   "cell_type": "markdown",
   "metadata": {},
   "source": [
    "# Load Pretrained VGG network\n",
    "Now in order to generate the CNN featurizations of our images, load a pretrained network. "
   ]
  },
  {
   "cell_type": "code",
   "execution_count": null,
   "metadata": {
    "collapsed": true
   },
   "outputs": [],
   "source": [
    "VGG16 = keras.applications.vgg16.VGG16(input_shape=(224, 224, 3), weights='imagenet', include_top=False)"
   ]
  },
  {
   "cell_type": "code",
   "execution_count": null,
   "metadata": {
    "collapsed": true
   },
   "outputs": [],
   "source": [
    "VGG16.summary()"
   ]
  },
  {
   "cell_type": "code",
   "execution_count": null,
   "metadata": {
    "collapsed": true
   },
   "outputs": [],
   "source": [
    "featurized_training_data = VGG16.predict(train_imgs, verbose=1)"
   ]
  },
  {
   "cell_type": "code",
   "execution_count": null,
   "metadata": {
    "collapsed": true
   },
   "outputs": [],
   "source": [
    "featurized_test_data = VGG16.predict(test_imgs, verbose=1)"
   ]
  },
  {
   "cell_type": "code",
   "execution_count": 65,
   "metadata": {
    "collapsed": true
   },
   "outputs": [],
   "source": [
    "# Save featurizations\n",
    "import pickle\n",
    "with open('data/featurized_train_imgs.pkl', 'wb') as f:\n",
    "    pickle.dump(featurized_training_data, f)\n",
    "with open('data/featurized_test_imgs.pkl', 'wb') as f:\n",
    "    pickle.dump(featurized_test_data, f)"
   ]
  },
  {
   "cell_type": "markdown",
   "metadata": {},
   "source": [
    "# Load featurizations"
   ]
  },
  {
   "cell_type": "code",
   "execution_count": 56,
   "metadata": {
    "collapsed": true
   },
   "outputs": [],
   "source": [
    "import pickle\n",
    "with open('data/featurized_train_imgs.pkl', 'rb') as f:\n",
    "    featurized_training_data = pickle.load(f)\n",
    "with open('data/featurized_test_imgs.pkl', 'rb') as f:\n",
    "    featurized_test_data = pickle.load(f)"
   ]
  },
  {
   "cell_type": "markdown",
   "metadata": {},
   "source": [
    "# Create the network\n",
    "Create a network to take in the featurizations and output a label of dog or not dog using Keras' Sequential model. Flatten the (7,7,512) feature input into a vector and add a Dense layer with some number of neurons. Then finally a Dense layer with 1 neuron and a sigmoid activation to represent our label output. "
   ]
  },
  {
   "cell_type": "code",
   "execution_count": 57,
   "metadata": {
    "collapsed": true
   },
   "outputs": [],
   "source": [
    "model = Sequential()\n",
    "model.add(Flatten(input_shape=(7, 7, 512)))\n",
    "model.add(Dense(64))\n",
    "model.add(Dense(1, activation = 'sigmoid'))"
   ]
  },
  {
   "cell_type": "code",
   "execution_count": 58,
   "metadata": {},
   "outputs": [
    {
     "name": "stdout",
     "output_type": "stream",
     "text": [
      "_________________________________________________________________\n",
      "Layer (type)                 Output Shape              Param #   \n",
      "=================================================================\n",
      "flatten_2 (Flatten)          (None, 25088)             0         \n",
      "_________________________________________________________________\n",
      "dense_3 (Dense)              (None, 64)                1605696   \n",
      "_________________________________________________________________\n",
      "dense_4 (Dense)              (None, 1)                 65        \n",
      "=================================================================\n",
      "Total params: 1,605,761\n",
      "Trainable params: 1,605,761\n",
      "Non-trainable params: 0\n",
      "_________________________________________________________________\n"
     ]
    }
   ],
   "source": [
    "model.summary()"
   ]
  },
  {
   "cell_type": "code",
   "execution_count": 59,
   "metadata": {},
   "outputs": [
    {
     "data": {
      "text/plain": [
       "(500, 224, 224, 3)"
      ]
     },
     "execution_count": 59,
     "metadata": {},
     "output_type": "execute_result"
    }
   ],
   "source": [
    "train_imgs.shape"
   ]
  },
  {
   "cell_type": "markdown",
   "metadata": {},
   "source": [
    "# Now train the network\n",
    "Compile the model first, and then use the fit function using binary crossentropy as loss."
   ]
  },
  {
   "cell_type": "code",
   "execution_count": 60,
   "metadata": {},
   "outputs": [],
   "source": [
    "model.compile(optimizer='SGD', loss='binary_crossentropy')"
   ]
  },
  {
   "cell_type": "code",
   "execution_count": 61,
   "metadata": {},
   "outputs": [
    {
     "name": "stdout",
     "output_type": "stream",
     "text": [
      "Epoch 1/10\n",
      "10000/10000 [==============================] - 11s - loss: 7.8096    \n",
      "Epoch 2/10\n",
      "10000/10000 [==============================] - 9s - loss: 7.8548     \n",
      "Epoch 3/10\n",
      "10000/10000 [==============================] - 9s - loss: 7.8548     \n",
      "Epoch 4/10\n",
      "10000/10000 [==============================] - 10s - loss: 7.8548    \n",
      "Epoch 5/10\n",
      "10000/10000 [==============================] - 7s - loss: 7.8548     \n",
      "Epoch 6/10\n",
      "10000/10000 [==============================] - 12s - loss: 7.8548    \n",
      "Epoch 7/10\n",
      "10000/10000 [==============================] - 9s - loss: 7.8548     \n",
      "Epoch 8/10\n",
      "10000/10000 [==============================] - 9s - loss: 7.8548     \n",
      "Epoch 9/10\n",
      "10000/10000 [==============================] - 9s - loss: 7.8548     \n",
      "Epoch 10/10\n",
      "10000/10000 [==============================] - 8s - loss: 7.8548     \n"
     ]
    },
    {
     "data": {
      "text/plain": [
       "<keras.callbacks.History at 0x11dda16d8>"
      ]
     },
     "execution_count": 61,
     "metadata": {},
     "output_type": "execute_result"
    }
   ],
   "source": [
    "model.fit(featurized_training_data, train_labels)"
   ]
  },
  {
   "cell_type": "markdown",
   "metadata": {},
   "source": [
    "Now predict labels for the test set and output it to file."
   ]
  },
  {
   "cell_type": "code",
   "execution_count": 62,
   "metadata": {
    "collapsed": true
   },
   "outputs": [],
   "source": [
    "predictions = model.predict(featurized_test_data)"
   ]
  },
  {
   "cell_type": "code",
   "execution_count": 63,
   "metadata": {},
   "outputs": [
    {
     "name": "stdout",
     "output_type": "stream",
     "text": [
      "[[ 1.]\n",
      " [ 1.]\n",
      " [ 1.]\n",
      " ..., \n",
      " [ 1.]\n",
      " [ 1.]\n",
      " [ 1.]]\n"
     ]
    }
   ],
   "source": [
    "print(predictions)"
   ]
  },
  {
   "cell_type": "code",
   "execution_count": 64,
   "metadata": {},
   "outputs": [
    {
     "name": "stdout",
     "output_type": "stream",
     "text": [
      " 9952/10000 [============================>.] - ETA: 0s"
     ]
    },
    {
     "data": {
      "text/plain": [
       "7.8548129623413088"
      ]
     },
     "execution_count": 64,
     "metadata": {},
     "output_type": "execute_result"
    }
   ],
   "source": [
    "model.evaluate(featurized_training_data, train_labels)"
   ]
  },
  {
   "cell_type": "code",
   "execution_count": 65,
   "metadata": {
    "collapsed": true
   },
   "outputs": [],
   "source": [
    "with open('test_labels.txt', 'w') as f:\n",
    "    f.write(\"Id,Label\\n\")\n",
    "    for i, val in enumerate(predictions):\n",
    "        prediction = 1 if (val >= 0.5) else 0\n",
    "        f.write(str(i))\n",
    "        f.write('\\n')\n",
    "        f.write(str(prediction))\n",
    "        f.write('\\n')"
   ]
  },
  {
   "cell_type": "markdown",
   "metadata": {},
   "source": [
    "# Part 2"
   ]
  },
  {
   "cell_type": "code",
   "execution_count": 66,
   "metadata": {
    "collapsed": true
   },
   "outputs": [],
   "source": [
    "from sklearn.decomposition import PCA"
   ]
  },
  {
   "cell_type": "code",
   "execution_count": 67,
   "metadata": {},
   "outputs": [
    {
     "data": {
      "text/plain": [
       "(500, 224, 224, 3)"
      ]
     },
     "execution_count": 67,
     "metadata": {},
     "output_type": "execute_result"
    }
   ],
   "source": [
    "train_imgs.shape\n"
   ]
  },
  {
   "cell_type": "markdown",
   "metadata": {},
   "source": [
    "Now we want to run PCA on our images and our featurizations to see the difference. To save time we will just run it on the first 500 images. Take the first 500 images and 500 featurizations and reshape them into shape (500, x)."
   ]
  },
  {
   "cell_type": "code",
   "execution_count": 69,
   "metadata": {},
   "outputs": [
    {
     "data": {
      "text/plain": [
       "(10000, 7, 7, 512)"
      ]
     },
     "execution_count": 69,
     "metadata": {},
     "output_type": "execute_result"
    }
   ],
   "source": [
    "original_imgs = train_imgs[0:500]\n",
    "original_imgs = original_imgs.reshape(500, -1)\n",
    "featurized = featurized_training_data[0:500].reshape(500, -1)\n",
    "featurized_training_data.shape"
   ]
  },
  {
   "cell_type": "markdown",
   "metadata": {},
   "source": [
    "Run PCA with 2 components on the original images"
   ]
  },
  {
   "cell_type": "code",
   "execution_count": 70,
   "metadata": {},
   "outputs": [
    {
     "data": {
      "text/plain": [
       "PCA(copy=True, iterated_power='auto', n_components=2, random_state=None,\n",
       "  svd_solver='auto', tol=0.0, whiten=False)"
      ]
     },
     "execution_count": 70,
     "metadata": {},
     "output_type": "execute_result"
    }
   ],
   "source": [
    "pca_orig = PCA(n_components=2)\n",
    "pca_orig.fit(original_imgs)"
   ]
  },
  {
   "cell_type": "markdown",
   "metadata": {},
   "source": [
    "Run PCA with 2 components on the featurizations"
   ]
  },
  {
   "cell_type": "code",
   "execution_count": 71,
   "metadata": {},
   "outputs": [
    {
     "data": {
      "text/plain": [
       "PCA(copy=True, iterated_power='auto', n_components=2, random_state=None,\n",
       "  svd_solver='auto', tol=0.0, whiten=False)"
      ]
     },
     "execution_count": 71,
     "metadata": {},
     "output_type": "execute_result"
    }
   ],
   "source": [
    "pca_featurized = PCA(n_components=2)\n",
    "pca_featurized.fit(featurized)"
   ]
  },
  {
   "cell_type": "markdown",
   "metadata": {},
   "source": [
    "Project the original images and featurizations onto the 2 principal components. "
   ]
  },
  {
   "cell_type": "code",
   "execution_count": 72,
   "metadata": {},
   "outputs": [],
   "source": [
    "projected_orig_imgs = pca_orig.transform(original_imgs)\n",
    "projected_featurized = pca_featurized.transform(featurized)"
   ]
  },
  {
   "cell_type": "markdown",
   "metadata": {},
   "source": [
    "Find the indices of the labels that are cats and the indices that are dogs. np.where will make this very easy"
   ]
  },
  {
   "cell_type": "code",
   "execution_count": 73,
   "metadata": {
    "collapsed": true
   },
   "outputs": [],
   "source": [
    "labels = train_labels[:500] \n",
    "cat_inds = np.where(labels == 0)[0]\n",
    "dog_inds = np.where(labels == 1)[0]"
   ]
  },
  {
   "cell_type": "markdown",
   "metadata": {},
   "source": [
    "Plot the PCA of the original images and the PCA of the featurization"
   ]
  },
  {
   "cell_type": "code",
   "execution_count": 74,
   "metadata": {},
   "outputs": [
    {
     "data": {
      "text/plain": [
       "<matplotlib.collections.PathCollection at 0x121839d68>"
      ]
     },
     "execution_count": 74,
     "metadata": {},
     "output_type": "execute_result"
    },
    {
     "data": {
      "image/png": "[encoded data removed]",
      "text/plain": [
       "<matplotlib.figure.Figure at 0x121207f98>"
      ]
     },
     "metadata": {},
     "output_type": "display_data"
    }
   ],
   "source": [
    "plt.scatter(projected_orig_imgs[cat_inds ,0], projected_orig_imgs[cat_inds, 1], c='red')\n",
    "plt.scatter(projected_orig_imgs[dog_inds, 0], projected_orig_imgs[dog_inds, 1], c='green')"
   ]
  },
  {
   "cell_type": "code",
   "execution_count": 75,
   "metadata": {},
   "outputs": [
    {
     "data": {
      "text/plain": [
       "<matplotlib.collections.PathCollection at 0x1217eb518>"
      ]
     },
     "execution_count": 75,
     "metadata": {},
     "output_type": "execute_result"
    },
    {
     "data": {
      "image/png": "[encoded data removed]",
      "text/plain": [
       "<matplotlib.figure.Figure at 0x12124bf28>"
      ]
     },
     "metadata": {},
     "output_type": "display_data"
    }
   ],
   "source": [
    "plt.scatter(projected_featurized[cat_inds ,0], projected_featurized[cat_inds, 1], c='red')\n",
    "plt.scatter(projected_featurized[dog_inds, 0], projected_featurized[dog_inds, 1], c='green')"
   ]
  }
 ],
 "metadata": {
  "kernelspec": {
   "display_name": "Python 3",
   "language": "python",
   "name": "python3"
  },
  "language_info": {
   "codemirror_mode": {
    "name": "ipython",
    "version": 3
   },
   "file_extension": ".py",
   "mimetype": "text/x-python",
   "name": "python",
   "nbconvert_exporter": "python",
   "pygments_lexer": "ipython3",
   "version": "3.6.4"
  }
 },
 "nbformat": 4,
 "nbformat_minor": 2
}
